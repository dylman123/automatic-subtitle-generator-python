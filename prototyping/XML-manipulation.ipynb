{
 "cells": [
  {
   "cell_type": "markdown",
   "metadata": {},
   "source": [
    "## XML document manipulation\n",
    "Goal is to make sure that elements can be appended to a parent whilst preserving the order of the final element, 'audio-channel-source'. This is needed in order to pass DTD validation. "
   ]
  },
  {
   "cell_type": "code",
   "execution_count": 1,
   "metadata": {},
   "outputs": [],
   "source": [
    "import xml.etree.ElementTree as ET\n",
    "from xml.dom.minidom import parseString"
   ]
  },
  {
   "cell_type": "code",
   "execution_count": 2,
   "metadata": {},
   "outputs": [],
   "source": [
    "blank_path = '/home/dylan/Git/automatic-subtitle-generator/inputs/blank-test.fcpxml'"
   ]
  },
  {
   "cell_type": "code",
   "execution_count": 3,
   "metadata": {},
   "outputs": [],
   "source": [
    "blank = ET.parse(blank_path)\n",
    "root = blank.getroot()"
   ]
  },
  {
   "cell_type": "code",
   "execution_count": 4,
   "metadata": {},
   "outputs": [
    {
     "name": "stdout",
     "output_type": "stream",
     "text": [
      "<THIS IS A TEST! />\n"
     ]
    }
   ],
   "source": [
    "newElement = ET.Element('THIS IS A TEST!')\n",
    "ET.dump(newElement)"
   ]
  },
  {
   "cell_type": "code",
   "execution_count": 6,
   "metadata": {},
   "outputs": [],
   "source": [
    "root[1][0][0][0][0][1].append(newElement)"
   ]
  },
  {
   "cell_type": "code",
   "execution_count": 7,
   "metadata": {},
   "outputs": [],
   "source": [
    "trailing_elements = ['audio-channel-source']\n",
    "for string in trailing_elements:\n",
    "    element = root[1][0][0][0][0][1].find(string)\n",
    "    root[1][0][0][0][0][1].remove(element)\n",
    "    root[1][0][0][0][0][1].append(element)"
   ]
  },
  {
   "cell_type": "code",
   "execution_count": 8,
   "metadata": {},
   "outputs": [
    {
     "name": "stdout",
     "output_type": "stream",
     "text": [
      "<fcpxml version=\"1.8\">\n",
      "    <resources>\n",
      "        <format colorSpace=\"1-1-1 (Rec. 709)\" frameDuration=\"100/3000s\" height=\"1080\" id=\"r1\" name=\"FFVideoFormat1080p30\" width=\"1920\" />\n",
      "        <asset audioChannels=\"2\" audioRate=\"48000\" audioSources=\"1\" duration=\"63693630/90000s\" format=\"r3\" hasAudio=\"1\" hasVideo=\"1\" id=\"r2\" name=\"GH020795\" src=\"file:///Users/darrenlevy/Movies/Untitled.fcpbundle/2-2-20/Original%20Media/GH020795.mp4\" start=\"693488796/90000s\" uid=\"3EEBD4C56AEEB3775416D119E150108E\">\n",
      "            <metadata>\n",
      "                <md key=\"com.apple.proapps.studio.rawToLogConversion\" value=\"0\" />\n",
      "                <md key=\"com.apple.proapps.spotlight.kMDItemProfileName\" value=\"HD (1-1-1)\" />\n",
      "                <md key=\"com.apple.proapps.spotlight.kMDItemCodecs\">\n",
      "                    <array>\n",
      "                        <string>AAC</string>\n",
      "                        <string>GoPro AVC encoder</string>\n",
      "                    </array>\n",
      "                </md>\n",
      "                <md key=\"com.apple.proapps.mio.ingestDate\" value=\"2020-02-04 05:43:21 +1100\" />\n",
      "            </metadata>\n",
      "        </asset>\n",
      "        <format colorSpace=\"1-1-1 (Rec. 709)\" frameDuration=\"1001/30000s\" height=\"1080\" id=\"r3\" name=\"FFVideoFormat1080p2997\" width=\"1920\" />\n",
      "        <effect id=\"r4\" name=\"Basic Title\" uid=\".../Titles.localized/Bumper:Opener.localized/Basic Title.localized/Basic Title.moti\" />\n",
      "        <asset audioChannels=\"2\" audioRate=\"44100\" audioSources=\"1\" duration=\"7377408/44100s\" hasAudio=\"1\" id=\"r5\" name=\"Potions (1)\" src=\"file:///Users/darrenlevy/Downloads/Potions%20(1).mp3\" start=\"0s\" uid=\"4A4E526F280A1AA568C736A92ADF59E4\">\n",
      "            <bookmark>Ym9va8QCAAAAAAQQMAAAAOX0PYmefW3kgjljTQJ4ksufXAoCbYv7Jz+PnhptE7B5wAEAAAQAAAADAwAAABgAKAUAAAABAQAAVXNlcnMAAAAKAAAAAQEAAGRhcnJlbmxldnkAAAkAAAABAQAARG93bmxvYWRzAAAADwAAAAEBAABQb3Rpb25zICgxKS5tcDMAEAAAAAEGAAAQAAAAIAAAADQAAABIAAAACAAAAAQDAADcaQYAAAAAAAgAAAAEAwAAhaoJAAAAAAAIAAAABAMAAIiqCQAAAAAACAAAAAQDAAAL+fkAAgAAABAAAAABBgAAeAAAAIgAAACYAAAAqAAAAAgAAAAABAAAQcH1rzD+BqIYAAAAAQIAAAEAAAAAAAAADwAAAAAAAAAAAAAAAAAAAAgAAAAEAwAAAgAAAAAAAAAEAAAAAwMAAPUBAAAIAAAAAQkAAGZpbGU6Ly8vDAAAAAEBAABNYWNpbnRvc2ggSEQIAAAABAMAAABQPy0cAAAACAAAAAAEAABBvrff8QAAACQAAAABAQAAQTgxQUFGREEtMTk3Qy0zNkE0LTkyREYtQUM4NjRENUEyMDdFGAAAAAECAACBAAAAAQAAAO8TAAABAAAAAAAAAAAAAAABAAAAAQEAAC8AAAAAAAAAAQUAAMwAAAD+////AQAAAAAAAAAQAAAABBAAAGAAAAAAAAAABRAAALgAAAAAAAAAEBAAAOAAAAAAAAAAQBAAANAAAAAAAAAAAiAAAKwBAAAAAAAABSAAABwBAAAAAAAAECAAACwBAAAAAAAAESAAAGABAAAAAAAAEiAAAEABAAAAAAAAEyAAAFABAAAAAAAAICAAAIwBAAAAAAAAMCAAALgBAAAAAAAAAcAAAAABAAAAAAAAEcAAACAAAAAAAAAAEsAAABABAAAAAAAAENAAAAQAAAAAAAAA</bookmark>\n",
      "        </asset>\n",
      "    </resources>\n",
      "    <library location=\"file:///Users/darrenlevy/Movies/Untitled.fcpbundle/\">\n",
      "        <event name=\"2-2-20\" uid=\"0D8C07BB-7178-4EC9-9F63-E5DE8252D368\">\n",
      "            <project modDate=\"2020-02-21 23:24:35 +1100\" name=\"Untitled Project 3\" uid=\"DD781F27-5B9E-4126-9E46-95A80BDA04F7\">\n",
      "                <sequence audioLayout=\"stereo\" audioRate=\"48k\" duration=\"129900/3000s\" format=\"r1\" tcFormat=\"NDF\" tcStart=\"0s\">\n",
      "                    <spine>\n",
      "                        <asset-clip audioRole=\"dialogue\" duration=\"174/30s\" format=\"r3\" name=\"GH020795\" offset=\"0s\" ref=\"r2\" start=\"236923687/30000s\" tcFormat=\"NDF\">\n",
      "                            <conform-rate srcFrameRate=\"29.97\" />\n",
      "                            <adjust-volume>\n",
      "                                <param name=\"amount\">\n",
      "                                    <fadeIn duration=\"27020/720000s\" type=\"easeIn\" />\n",
      "                                    <fadeOut duration=\"2999/720000s\" type=\"easeIn\" />\n",
      "                                </param>\n",
      "                            </adjust-volume>\n",
      "                        </asset-clip>\n",
      "                        <asset-clip audioRole=\"dialogue\" duration=\"10s\" format=\"r3\" name=\"GH020795\" offset=\"174/30s\" ref=\"r2\" start=\"23722699/3000s\" tcFormat=\"NDF\">\n",
      "                            <conform-rate srcFrameRate=\"29.97\" />\n",
      "                            <adjust-volume>\n",
      "                                <param name=\"amount\">\n",
      "                                    <fadeIn duration=\"38565/720000s\" type=\"easeIn\" />\n",
      "                                    <fadeOut duration=\"33257/720000s\" type=\"easeIn\" />\n",
      "                                </param>\n",
      "                            </adjust-volume>\n",
      "                            <asset-clip audioRole=\"dialogue\" duration=\"64000/3000s\" format=\"r1\" lane=\"-1\" name=\"Potions (1)\" offset=\"23722699/3000s\" ref=\"r5\" start=\"9/10s\">\n",
      "                                <adjust-volume amount=\"-28dB\" />\n",
      "                            </asset-clip>\n",
      "                            <THIS IS A TEST! /><audio-channel-source role=\"dialogue.dialogue-1\" srcCh=\"1, 2\">\n",
      "                                <adjust-EQ mode=\"flat\">\n",
      "                                    <param key=\"2/0\" name=\"32 Hz\" value=\"-20\" />\n",
      "                                    <param key=\"2/1\" name=\"64 Hz\" value=\"-3\" />\n",
      "                                </adjust-EQ>\n",
      "                            </audio-channel-source>\n",
      "                        </asset-clip>\n",
      "                        <asset-clip audioRole=\"dialogue\" duration=\"643/30s\" format=\"r3\" name=\"GH020795\" offset=\"47400/3000s\" ref=\"r2\" start=\"237788551/30000s\" tcFormat=\"NDF\">\n",
      "                            <conform-rate srcFrameRate=\"29.97\" />\n",
      "                            <adjust-volume>\n",
      "                                <param name=\"amount\">\n",
      "                                    <fadeIn duration=\"29088/720000s\" type=\"easeIn\" />\n",
      "                                    <fadeOut duration=\"24336/720000s\" type=\"easeIn\" />\n",
      "                                </param>\n",
      "                            </adjust-volume>\n",
      "                            <asset-clip audioRole=\"dialogue\" duration=\"41500/3000s\" format=\"r1\" lane=\"-1\" name=\"Potions (1)\" offset=\"238198961/30000s\" ref=\"r5\" start=\"9/10s\">\n",
      "                                <adjust-volume amount=\"-28dB\" />\n",
      "                            </asset-clip>\n",
      "                            <audio-channel-source role=\"dialogue.dialogue-1\" srcCh=\"1, 2\">\n",
      "                                <adjust-EQ mode=\"flat\">\n",
      "                                    <param key=\"2/0\" name=\"32 Hz\" value=\"-20\" />\n",
      "                                    <param key=\"2/1\" name=\"64 Hz\" value=\"-3\" />\n",
      "                                </adjust-EQ>\n",
      "                            </audio-channel-source>\n",
      "                        </asset-clip>\n",
      "                        <asset-clip audioRole=\"dialogue\" duration=\"182/30s\" format=\"r3\" name=\"GH020795\" offset=\"111700/3000s\" ref=\"r2\" start=\"47694647/6000s\" tcFormat=\"NDF\">\n",
      "                            <conform-rate srcFrameRate=\"29.97\" />\n",
      "                            <adjust-volume>\n",
      "                                <param name=\"amount\">\n",
      "                                    <fadeIn duration=\"6837/720000s\" type=\"easeIn\" />\n",
      "                                    <fadeOut duration=\"28145/720000s\" type=\"easeIn\" />\n",
      "                                </param>\n",
      "                            </adjust-volume>\n",
      "                            <audio-channel-source role=\"dialogue.dialogue-1\" srcCh=\"1, 2\">\n",
      "                                <adjust-EQ mode=\"flat\">\n",
      "                                    <param key=\"2/0\" name=\"32 Hz\" value=\"-20\" />\n",
      "                                    <param key=\"2/1\" name=\"64 Hz\" value=\"-3\" />\n",
      "                                </adjust-EQ>\n",
      "                            </audio-channel-source>\n",
      "                        </asset-clip>\n",
      "                    </spine>\n",
      "                </sequence>\n",
      "            </project>\n",
      "        </event>\n",
      "        <smart-collection match=\"all\" name=\"Projects\">\n",
      "            <match-clip rule=\"is\" type=\"project\" />\n",
      "        </smart-collection>\n",
      "        <smart-collection match=\"any\" name=\"All Video\">\n",
      "            <match-media rule=\"is\" type=\"videoOnly\" />\n",
      "            <match-media rule=\"is\" type=\"videoWithAudio\" />\n",
      "        </smart-collection>\n",
      "        <smart-collection match=\"all\" name=\"Audio Only\">\n",
      "            <match-media rule=\"is\" type=\"audioOnly\" />\n",
      "        </smart-collection>\n",
      "        <smart-collection match=\"all\" name=\"Stills\">\n",
      "            <match-media rule=\"is\" type=\"stills\" />\n",
      "        </smart-collection>\n",
      "        <smart-collection match=\"all\" name=\"Favorites\">\n",
      "            <match-ratings value=\"favorites\" />\n",
      "        </smart-collection>\n",
      "    </library>\n",
      "</fcpxml>\n"
     ]
    }
   ],
   "source": [
    "ET.dump(root)"
   ]
  },
  {
   "cell_type": "markdown",
   "metadata": {},
   "source": [
    "## Add a new \"title\" resource in \"resources\""
   ]
  },
  {
   "cell_type": "code",
   "execution_count": 73,
   "metadata": {},
   "outputs": [],
   "source": [
    "resources = root.find('resources')\n",
    "new_id = str(len(resources)+1)"
   ]
  },
  {
   "cell_type": "code",
   "execution_count": 74,
   "metadata": {},
   "outputs": [
    {
     "name": "stdout",
     "output_type": "stream",
     "text": [
      "<effect id=\"r7\" name=\"Basic Title\" uid=\".../Titles.localized/Bumper:Opener.localized/Basic Title.localized/Basic Title.moti\" />\n"
     ]
    }
   ],
   "source": [
    "title_rsrc = ET.Element('effect')\n",
    "title_rsrc.attrib = {'id': f'r{new_id}',\n",
    "                     'name': 'Basic Title',\n",
    "                     'uid': '.../Titles.localized/Bumper:Opener.localized/Basic Title.localized/Basic Title.moti'}\n",
    "ET.dump(title_rsrc)"
   ]
  },
  {
   "cell_type": "code",
   "execution_count": 75,
   "metadata": {
    "scrolled": true
   },
   "outputs": [],
   "source": [
    "resources.append(title_rsrc)"
   ]
  },
  {
   "cell_type": "markdown",
   "metadata": {},
   "source": [
    "## XML DTD Validator"
   ]
  },
  {
   "cell_type": "code",
   "execution_count": 20,
   "metadata": {},
   "outputs": [],
   "source": [
    "dtd_path = '/home/dylan/Git/automatic-subtitle-generator/output/fcpxml-valid.dtd'\n",
    "xml_path = '/home/dylan/Git/automatic-subtitle-generator/output/daz test.fcpxml'"
   ]
  },
  {
   "cell_type": "code",
   "execution_count": 21,
   "metadata": {
    "scrolled": true
   },
   "outputs": [
    {
     "name": "stdout",
     "output_type": "stream",
     "text": [
      "DTD Validation Failed!\n"
     ]
    }
   ],
   "source": [
    "import subprocess\n",
    "\n",
    "command = f'xmllint --noout --dtdvalid {dtd_path} {xml_path}'\n",
    "result = subprocess.call(command, shell=True)\n",
    "if(result == 1):\n",
    "    print('DTD Validation Failed!')"
   ]
  },
  {
   "cell_type": "markdown",
   "metadata": {},
   "source": [
    "## Search by tag"
   ]
  },
  {
   "cell_type": "code",
   "execution_count": 20,
   "metadata": {},
   "outputs": [
    {
     "name": "stdout",
     "output_type": "stream",
     "text": [
      "<Element 'asset-clip' at 0x7f91d0f26dd0>\n"
     ]
    }
   ],
   "source": [
    "for spine in root.iter('spine'):\n",
    "    print(spine[3])"
   ]
  },
  {
   "cell_type": "code",
   "execution_count": 13,
   "metadata": {
    "scrolled": true
   },
   "outputs": [
    {
     "name": "stdout",
     "output_type": "stream",
     "text": [
      "{'name': 'GH020795', 'offset': '0s', 'ref': 'r2', 'duration': '174/30s', 'start': '236923687/30000s', 'audioRole': 'dialogue', 'format': 'r3', 'tcFormat': 'NDF'}\n",
      "{'name': 'GH020795', 'offset': '174/30s', 'ref': 'r2', 'duration': '10s', 'start': '23722699/3000s', 'audioRole': 'dialogue', 'format': 'r3', 'tcFormat': 'NDF'}\n",
      "{'name': 'GH020795', 'offset': '47400/3000s', 'ref': 'r2', 'duration': '643/30s', 'start': '237788551/30000s', 'audioRole': 'dialogue', 'format': 'r3', 'tcFormat': 'NDF'}\n",
      "{'name': 'GH020795', 'offset': '111700/3000s', 'ref': 'r2', 'duration': '182/30s', 'start': '47694647/6000s', 'audioRole': 'dialogue', 'format': 'r3', 'tcFormat': 'NDF'}\n"
     ]
    }
   ],
   "source": [
    "for spine in root.iter('spine'):\n",
    "    for asset_clip in spine.findall('asset-clip'):\n",
    "        print(asset_clip.attrib)"
   ]
  },
  {
   "cell_type": "code",
   "execution_count": 9,
   "metadata": {
    "scrolled": true
   },
   "outputs": [
    {
     "name": "stdout",
     "output_type": "stream",
     "text": [
      "{'name': 'GH020795', 'offset': '0s', 'ref': 'r2', 'duration': '174/30s', 'start': '236923687/30000s', 'audioRole': 'dialogue', 'format': 'r3', 'tcFormat': 'NDF'}\n",
      "{'name': 'GH020795', 'offset': '174/30s', 'ref': 'r2', 'duration': '10s', 'start': '23722699/3000s', 'audioRole': 'dialogue', 'format': 'r3', 'tcFormat': 'NDF'}\n",
      "{'name': 'Potions (1)', 'lane': '-1', 'offset': '23722699/3000s', 'ref': 'r5', 'duration': '64000/3000s', 'start': '9/10s', 'audioRole': 'dialogue', 'format': 'r1'}\n",
      "{'name': 'GH020795', 'offset': '47400/3000s', 'ref': 'r2', 'duration': '643/30s', 'start': '237788551/30000s', 'audioRole': 'dialogue', 'format': 'r3', 'tcFormat': 'NDF'}\n",
      "{'name': 'Potions (1)', 'lane': '-1', 'offset': '238198961/30000s', 'ref': 'r5', 'duration': '41500/3000s', 'start': '9/10s', 'audioRole': 'dialogue', 'format': 'r1'}\n",
      "{'name': 'GH020795', 'offset': '111700/3000s', 'ref': 'r2', 'duration': '182/30s', 'start': '47694647/6000s', 'audioRole': 'dialogue', 'format': 'r3', 'tcFormat': 'NDF'}\n"
     ]
    }
   ],
   "source": [
    "for asset_clip in root.iter('asset-clip'):\n",
    "    print(asset_clip.attrib)"
   ]
  },
  {
   "cell_type": "markdown",
   "metadata": {},
   "source": [
    "## Insert video path and name"
   ]
  },
  {
   "cell_type": "code",
   "execution_count": 18,
   "metadata": {
    "scrolled": true
   },
   "outputs": [
    {
     "name": "stdout",
     "output_type": "stream",
     "text": [
      "{'id': 'r2', 'src': 'Dylan video path', 'hasVideo': '1', 'format': 'r3', 'hasAudio': '1', 'audioSources': '1', 'audioChannels': '2', 'audioRate': '48000'}\n"
     ]
    }
   ],
   "source": [
    "for asset in root.iter(\"asset\"):\n",
    "    asset.attrib[\"src\"] = \"Dylan video path\"\n",
    "    print(asset.attrib)"
   ]
  },
  {
   "cell_type": "code",
   "execution_count": 20,
   "metadata": {
    "scrolled": true
   },
   "outputs": [
    {
     "name": "stdout",
     "output_type": "stream",
     "text": [
      "{'name': 'Dylan video name', 'offset': '0s', 'start': '0s', 'ref': 'r2', 'audioRole': 'dialogue', 'format': 'r3', 'tcFormat': 'NDF'}\n"
     ]
    }
   ],
   "source": [
    "for asset_clip in root.iter(\"asset-clip\"):\n",
    "    asset_clip.attrib[\"name\"] = \"Dylan video name\"\n",
    "    print(asset_clip.attrib)"
   ]
  }
 ],
 "metadata": {
  "kernelspec": {
   "display_name": "Python 3 (ipykernel)",
   "language": "python",
   "name": "python3"
  },
  "language_info": {
   "codemirror_mode": {
    "name": "ipython",
    "version": 3
   },
   "file_extension": ".py",
   "mimetype": "text/x-python",
   "name": "python",
   "nbconvert_exporter": "python",
   "pygments_lexer": "ipython3",
   "version": "3.9.6"
  }
 },
 "nbformat": 4,
 "nbformat_minor": 4
}
