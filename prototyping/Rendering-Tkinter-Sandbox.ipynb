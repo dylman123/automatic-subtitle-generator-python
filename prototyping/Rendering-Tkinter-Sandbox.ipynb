{
 "cells": [
  {
   "cell_type": "code",
   "execution_count": 11,
   "metadata": {},
   "outputs": [],
   "source": [
    "from tkinter import *\n",
    "\n",
    "root = Tk()\n",
    "for r in range(3):\n",
    "   for c in range(1):\n",
    "      Label(root, text='R%s/C%s'%(r,c),borderwidth=1).place(anchor=CENTER, relx=0.2, rely=0.2)\n",
    "root.mainloop(  )"
   ]
  },
  {
   "cell_type": "code",
   "execution_count": 21,
   "metadata": {},
   "outputs": [],
   "source": [
    "# importing tkinter module \n",
    "from tkinter import *\n",
    "from tkinter.ttk import *\n",
    "\n",
    "# creating tkinter window \n",
    "root = Tk() \n",
    "\n",
    "# Progress bar widget \n",
    "progress = Progressbar(root, orient = HORIZONTAL, \n",
    "                       length = 300, mode = 'determinate') \n",
    "\n",
    "'''# Function responsible for the updation \n",
    "# of the progress bar value \n",
    "def bar(): \n",
    "    import time\n",
    "    progress['value'] = 20\n",
    "    #root.update_idletasks() \n",
    "    time.sleep(1)\n",
    "\n",
    "    progress['value'] = 40\n",
    "    #root.update_idletasks() \n",
    "    time.sleep(1)\n",
    "\n",
    "    progress['value'] = 50\n",
    "    #root.update_idletasks() \n",
    "    time.sleep(1) \n",
    "\n",
    "    progress['value'] = 60\n",
    "    #root.update_idletasks() \n",
    "    time.sleep(1) \n",
    "\n",
    "    progress['value'] = 80\n",
    "    #root.update_idletasks() \n",
    "    time.sleep(1) \n",
    "    progress['value'] = 100'''\n",
    "\n",
    "progress.pack(pady = 10) \n",
    "progress.step(0)\n",
    "# This button will initialize \n",
    "# the progress bar \n",
    "# Button(root, text = 'Start', command = bar).pack(pady = 10) \n",
    "\n",
    "# infinite loop \n",
    "mainloop() "
   ]
  },
  {
   "cell_type": "code",
   "execution_count": 7,
   "metadata": {},
   "outputs": [],
   "source": [
    "# importing tkinter module \n",
    "from tkinter import *\n",
    "from tkinter.ttk import *\n",
    "\n",
    "# creating tkinter window \n",
    "root = Tk() \n",
    "\n",
    "# Progress bar widget \n",
    "progress = Progressbar(root, orient = HORIZONTAL, \n",
    "\t\t\tlength = 100, mode = 'indeterminate') \n",
    "\n",
    "# Function responsible for the updation \n",
    "# of the progress bar value \n",
    "def bar(): \n",
    "\timport time \n",
    "\tprogress['value'] = 20\n",
    "\troot.update_idletasks() \n",
    "\ttime.sleep(0.5) \n",
    "\n",
    "\tprogress['value'] = 40\n",
    "\troot.update_idletasks() \n",
    "\ttime.sleep(0.5) \n",
    "\n",
    "\tprogress['value'] = 50\n",
    "\troot.update_idletasks() \n",
    "\ttime.sleep(0.5) \n",
    "\n",
    "\tprogress['value'] = 60\n",
    "\troot.update_idletasks() \n",
    "\ttime.sleep(0.5) \n",
    "\n",
    "\tprogress['value'] = 80\n",
    "\troot.update_idletasks() \n",
    "\ttime.sleep(0.5) \n",
    "\n",
    "\tprogress['value'] = 100\n",
    "\troot.update_idletasks() \n",
    "\ttime.sleep(0.5) \n",
    "\n",
    "\tprogress['value'] = 80\n",
    "\troot.update_idletasks() \n",
    "\ttime.sleep(0.5) \n",
    "\n",
    "\tprogress['value'] = 60\n",
    "\troot.update_idletasks() \n",
    "\ttime.sleep(0.5) \n",
    "\n",
    "\tprogress['value'] = 50\n",
    "\troot.update_idletasks() \n",
    "\ttime.sleep(0.5) \n",
    "\n",
    "\tprogress['value'] = 40\n",
    "\troot.update_idletasks() \n",
    "\ttime.sleep(0.5) \n",
    "\n",
    "\tprogress['value'] = 20\n",
    "\troot.update_idletasks() \n",
    "\ttime.sleep(0.5) \n",
    "\tprogress['value'] = 0\n",
    "\t\n",
    "\n",
    "progress.pack(pady = 10) \n",
    "\n",
    "# This button will initialize \n",
    "# the progress bar \n",
    "Button(root, text = 'Start', command = bar).pack(pady = 10) \n",
    "\n",
    "# infinite loop \n",
    "mainloop() \n"
   ]
  },
  {
   "cell_type": "code",
   "execution_count": 7,
   "metadata": {},
   "outputs": [],
   "source": [
    "import tkinter as tk\n",
    "from tkinter import ttk\n",
    "\n",
    "\n",
    "class ScrollableFrame(ttk.Frame):\n",
    "    def __init__(self, container, *args, **kwargs):\n",
    "        super().__init__(container, *args, **kwargs)\n",
    "        canvas = tk.Canvas(self, width=1000, height=500)\n",
    "        scrollbar = ttk.Scrollbar(self, orient=\"vertical\", command=canvas.yview)\n",
    "        self.scrollable_frame = ttk.Frame(canvas)\n",
    "\n",
    "        self.scrollable_frame.bind(\n",
    "            \"<Configure>\",\n",
    "            lambda e: canvas.configure(\n",
    "                scrollregion=canvas.bbox(\"all\")\n",
    "            )\n",
    "        )\n",
    "\n",
    "        canvas.create_window((0, 0), window=self.scrollable_frame, anchor=\"nw\")\n",
    "\n",
    "        canvas.configure(yscrollcommand=scrollbar.set)\n",
    "\n",
    "        canvas.pack(side=\"left\", fill=\"both\", expand=True)\n",
    "        scrollbar.pack(side=\"right\", fill=\"y\")"
   ]
  },
  {
   "cell_type": "code",
   "execution_count": 8,
   "metadata": {},
   "outputs": [],
   "source": [
    "root = tk.Tk()\n",
    "\n",
    "frame = ScrollableFrame(root)\n",
    "\n",
    "for i in range(50):\n",
    "    ttk.Label(frame.scrollable_frame, text=\"Sample scrolling label\").pack()\n",
    "\n",
    "frame.pack()\n",
    "root.mainloop()"
   ]
  },
  {
   "cell_type": "code",
   "execution_count": 102,
   "metadata": {},
   "outputs": [],
   "source": [
    "from tkinter import *\n",
    "import pandas as pd\n",
    "\n",
    "root = Tk()\n",
    "max_width = root.winfo_screenwidth()\n",
    "max_height = root.winfo_screenheight()\n",
    "scale = 0.8\n",
    "root.geometry(f\"{int(max_width*scale)}x{int(max_height*scale)}\")\n",
    "\n",
    "scrollbar = Scrollbar(root)\n",
    "scrollbar.pack(side=RIGHT, fill=Y)\n",
    "\n",
    "text = Text(root, wrap=WORD, yscrollcommand=scrollbar.set)\n",
    "#text.place(x=40,y=40,anchor=NW,width=100,height=25)\n",
    "text.pack(expand=True,fill=BOTH)\n",
    "\n",
    "scrollbar.config(command=text.yview)\n",
    "\n",
    "'''row = \"\"\n",
    "for i in range(80):\n",
    "    row = row + \".\"\n",
    "\n",
    "for i in range(1000):\n",
    "    text.insert(INSERT, f\"{row}\\n\")'''\n",
    "\n",
    "#listbox = Listbox(root)\n",
    "#listbox.pack()\n",
    "pd.set_option('display.width', 1000)\n",
    "text.insert(\"4.4\", \"hello this is a title\")\n",
    "#text.insert(\"10.4\", \"hello this is a title\")\n",
    "#text.insert(\"@500,100\", \"hello this is a title\\n\\n\")\n",
    "\n",
    "\n",
    "# attach listbox to scrollbar\n",
    "text.config(yscrollcommand=scrollbar.set)\n",
    "scrollbar.config(command=text.yview)\n",
    "\n",
    "mainloop()"
   ]
  },
  {
   "cell_type": "code",
   "execution_count": 1,
   "metadata": {},
   "outputs": [
    {
     "name": "stdout",
     "output_type": "stream",
     "text": [
      "Hello first speaker\n"
     ]
    }
   ],
   "source": [
    "string = \"Hello {speaker} speaker\"\n",
    "print(string.replace(\"{speaker}\", \"first\"))"
   ]
  },
  {
   "cell_type": "markdown",
   "metadata": {},
   "source": [
    "## Colour picker"
   ]
  },
  {
   "cell_type": "code",
   "execution_count": 12,
   "metadata": {
    "scrolled": true
   },
   "outputs": [
    {
     "data": {
      "text/plain": [
       "((0.0, 0.0, 255.99609375), '#0000ff')"
      ]
     },
     "execution_count": 12,
     "metadata": {},
     "output_type": "execute_result"
    }
   ],
   "source": [
    "import tkinter.colorchooser\n",
    "\n",
    "tkinter.colorchooser.askcolor()"
   ]
  }
 ],
 "metadata": {
  "kernelspec": {
   "display_name": "Python 3 (ipykernel)",
   "language": "python",
   "name": "python3"
  },
  "language_info": {
   "codemirror_mode": {
    "name": "ipython",
    "version": 3
   },
   "file_extension": ".py",
   "mimetype": "text/x-python",
   "name": "python",
   "nbconvert_exporter": "python",
   "pygments_lexer": "ipython3",
   "version": "3.9.6"
  }
 },
 "nbformat": 4,
 "nbformat_minor": 2
}
