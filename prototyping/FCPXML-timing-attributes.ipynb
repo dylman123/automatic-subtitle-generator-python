{
 "cells": [
  {
   "cell_type": "markdown",
   "metadata": {},
   "source": [
    "## FCPXML timing attributes\n",
    "According to this page: https://developer.apple.com/library/archive/documentation/FinalCutProX/Reference/FinalCutProXXMLFormat/StoryElements/StoryElements.html#//apple_ref/doc/uid/TP40011227-CH13-SW2\n",
    "\n",
    "Timing values must meet the following requirements:\n",
    "1. Must be a multiple of the frame duration for the respective timeline\n",
    "2. Numerator must be 64-bit integer\n",
    "3. Denomenator must be a 32-bit integer\n",
    "\n",
    "Frame durations can be either:\n",
    "1001/30000s (29.97fps), 1001/60000s (59.94fps), or 100/3000s (30fps)"
   ]
  },
  {
   "cell_type": "code",
   "execution_count": 106,
   "metadata": {},
   "outputs": [
    {
     "data": {
      "text/plain": [
       "True"
      ]
     },
     "execution_count": 106,
     "metadata": {},
     "output_type": "execute_result"
    }
   ],
   "source": [
    "number = 4.0\n",
    "type(number)\n",
    "number.is_integer()"
   ]
  },
  {
   "cell_type": "code",
   "execution_count": 354,
   "metadata": {},
   "outputs": [],
   "source": [
    "time_val = 3600456485\n",
    "if len(str(time_val)) > 16:\n",
    "    raise ValueError('Time value must be less than 16 digits.')"
   ]
  },
  {
   "cell_type": "code",
   "execution_count": 417,
   "metadata": {},
   "outputs": [
    {
     "name": "stdout",
     "output_type": "stream",
     "text": [
      "didn't work\n",
      "{'old_string': 'worked', 'new_string': 12}\n"
     ]
    }
   ],
   "source": [
    "old_string = \"didn't work\"\n",
    "new_string = \"worked\"\n",
    "\n",
    "def function():\n",
    "    _locals = locals()\n",
    "    exec(\"old_string = new_string\", globals(), _locals)\n",
    "    exec(\"new_string = 12\", globals(), _locals)\n",
    "    print(old_string)\n",
    "    print(_locals)\n",
    "\n",
    "function()"
   ]
  },
  {
   "cell_type": "code",
   "execution_count": 188,
   "metadata": {
    "scrolled": true
   },
   "outputs": [
    {
     "data": {
      "text/plain": [
       "True"
      ]
     },
     "execution_count": 188,
     "metadata": {},
     "output_type": "execute_result"
    }
   ],
   "source": [
    "is_int32(0)"
   ]
  },
  {
   "cell_type": "code",
   "execution_count": 176,
   "metadata": {},
   "outputs": [
    {
     "name": "stdout",
     "output_type": "stream",
     "text": [
      "A 32-bit int is between -2147483648 and 2147483647\n",
      "A 64-bit int is between -9223372036854775808 and 9223372036854775807\n"
     ]
    }
   ],
   "source": [
    "min32, max32 = -2**31, 2**31-1\n",
    "min64, max64 = -2**63, 2**63-1\n",
    "print(f'A 32-bit int is between {min32} and {max32}')\n",
    "print(f'A 64-bit int is between {min64} and {max64}')"
   ]
  },
  {
   "cell_type": "markdown",
   "metadata": {},
   "source": [
    "## Final functions below"
   ]
  },
  {
   "cell_type": "code",
   "execution_count": 439,
   "metadata": {},
   "outputs": [],
   "source": [
    "def is_int32(number):\n",
    "    '''Checks if an integer is 32-bit.'''\n",
    "    if type(number) != int: return False\n",
    "    min32, max32 = -2**31, 2**31-1\n",
    "    if number >= min32 and number <= max32:\n",
    "        return True\n",
    "    else: return False\n",
    "    \n",
    "def is_int64(number):\n",
    "    '''Checks if an integer is 64-bit.'''\n",
    "    if type(number) != int: return False\n",
    "    min64, max64 = -2**63, 2**63-1\n",
    "    if number >= min64 and number <= max64:\n",
    "        return True\n",
    "    else: return False"
   ]
  },
  {
   "cell_type": "code",
   "execution_count": 487,
   "metadata": {},
   "outputs": [],
   "source": [
    "def fit2frame(time, frame_durs):\n",
    "    '''\n",
    "    Converts a time (int in seconds) into a formatted string which FCPX expects.\n",
    "    Output is a dict of strings. Each dict key is a frame duration.\n",
    "    '''\n",
    "    _locals = locals()\n",
    "    time_vals = {}\n",
    "    #if len(str(time)) > 16:\n",
    "    #    raise ValueError('Time value must be less than 16 digits of precision.')\n",
    "    for fd in frame_durs.keys():\n",
    "        num = frame_durs[fd][0]\n",
    "        den = frame_durs[fd][1]\n",
    "        exec(f'{fd} = {num} / {den}')\n",
    "        exec(f'quotient = time / {fd}', globals(), _locals)\n",
    "        rounded = int(round(_locals['quotient']))\n",
    "        new_num = int(round(rounded*num))\n",
    "        check = new_num/num\n",
    "        if not check.is_integer():\n",
    "            print(f'Warning, {check} is not an integer!')\n",
    "        while(is_int64(new_num) == False):\n",
    "            print(f'Warning, {new_num} is not a 64-bit integer!')\n",
    "            new_num = int(new_num / 2)\n",
    "            den = int(den / 2)\n",
    "        if(is_int32(den) == False):\n",
    "            print(f'Warning, {den} is not a 32-bit integer!')\n",
    "        if den == 1:\n",
    "            string = f'{new_num}s'\n",
    "        else: string = f'{new_num}/{den}s'\n",
    "        try: new_time = new_num / den\n",
    "        except: pass\n",
    "        time_vals[fd] = string\n",
    "    return time_vals"
   ]
  },
  {
   "cell_type": "code",
   "execution_count": 488,
   "metadata": {},
   "outputs": [],
   "source": [
    "def format_timestamp(time, fd):\n",
    "    '''\n",
    "    Selects the appropriate timestamp based on the clip's frame duration.\n",
    "    Output is a string of format \"{numerator}/{denomenator}s\".\n",
    "    '''\n",
    "    fd_refs = {\n",
    "    \"1001/30000s\": \"fd_2997\",\n",
    "    \"1001/60000s\": \"fd_5994\",\n",
    "    \"100/3000s\": \"fd_30\"\n",
    "    }\n",
    "    frame_durs = {\n",
    "    \"fd_2997\": [1001, 30000],\n",
    "    \"fd_5994\": [1001, 60000],\n",
    "    \"fd_30\": [100, 3000]\n",
    "    }\n",
    "    timestamp = fit2frame(time, frame_durs)[fd_refs[fd]]\n",
    "    return timestamp"
   ]
  },
  {
   "cell_type": "code",
   "execution_count": 489,
   "metadata": {},
   "outputs": [
    {
     "name": "stdout",
     "output_type": "stream",
     "text": [
      "468900463 469369363463\n",
      "468900463.0\n",
      "937800926 938738726926\n",
      "937800926.0\n",
      "469369364 46936936400\n",
      "469369364.0\n"
     ]
    },
    {
     "data": {
      "text/plain": [
       "'938738726926/60000s'"
      ]
     },
     "execution_count": 489,
     "metadata": {},
     "output_type": "execute_result"
    }
   ],
   "source": [
    "format_timestamp(time=15645645.45644656855, fd=\"1001/60000s\")"
   ]
  }
 ],
 "metadata": {
  "kernelspec": {
   "display_name": "Python 3 (ipykernel)",
   "language": "python",
   "name": "python3"
  },
  "language_info": {
   "codemirror_mode": {
    "name": "ipython",
    "version": 3
   },
   "file_extension": ".py",
   "mimetype": "text/x-python",
   "name": "python",
   "nbconvert_exporter": "python",
   "pygments_lexer": "ipython3",
   "version": "3.9.6"
  }
 },
 "nbformat": 4,
 "nbformat_minor": 4
}
