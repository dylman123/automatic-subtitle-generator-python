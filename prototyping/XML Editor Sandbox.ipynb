{
 "cells": [
  {
   "cell_type": "code",
   "execution_count": 14,
   "metadata": {},
   "outputs": [
    {
     "name": "stdout",
     "output_type": "stream",
     "text": [
      "<original><appended 1 /><appended 2 /><appended 3 /></original>\n"
     ]
    }
   ],
   "source": [
    "import xml.etree.ElementTree as ET\n",
    "\n",
    "x = ET.Element('original')\n",
    "y1 = ET.Element('appended 1')\n",
    "y2 = ET.Element('appended 2')\n",
    "y3 = ET.Element('appended 3')\n",
    "\n",
    "for i in y1, y2, y3:\n",
    "    x.append(i)\n",
    "    \n",
    "ET.dump(x)"
   ]
  }
 ],
 "metadata": {
  "kernelspec": {
   "display_name": "Python 3",
   "language": "python",
   "name": "python3"
  },
  "language_info": {
   "codemirror_mode": {
    "name": "ipython",
    "version": 3
   },
   "file_extension": ".py",
   "mimetype": "text/x-python",
   "name": "python",
   "nbconvert_exporter": "python",
   "pygments_lexer": "ipython3",
   "version": "3.7.4"
  }
 },
 "nbformat": 4,
 "nbformat_minor": 2
}
